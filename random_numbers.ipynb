{
 "cells": [
  {
   "cell_type": "code",
   "execution_count": 1,
   "id": "6538dd04-b696-4244-bb1b-5ce9b1a9e2f1",
   "metadata": {},
   "outputs": [],
   "source": [
    "# Import the random module.\n",
    "import random"
   ]
  },
  {
   "cell_type": "code",
   "execution_count": 2,
   "id": "d11040cb-91a9-4601-a510-1167436b3e66",
   "metadata": {},
   "outputs": [
    {
     "data": {
      "text/plain": [
       "60"
      ]
     },
     "execution_count": 2,
     "metadata": {},
     "output_type": "execute_result"
    }
   ],
   "source": [
    "random.randint(-90,90)"
   ]
  },
  {
   "cell_type": "code",
   "execution_count": 3,
   "id": "384a78f6-970c-4f6b-8f5c-18cfc0dd9e29",
   "metadata": {},
   "outputs": [
    {
     "data": {
      "text/plain": [
       "0.3809111109775012"
      ]
     },
     "execution_count": 3,
     "metadata": {},
     "output_type": "execute_result"
    }
   ],
   "source": [
    "random.random()"
   ]
  },
  {
   "cell_type": "code",
   "execution_count": 4,
   "id": "eb97b4cf-18c0-4626-9f40-a7e1666253f5",
   "metadata": {},
   "outputs": [
    {
     "data": {
      "text/plain": [
       "70.80561490099059"
      ]
     },
     "execution_count": 4,
     "metadata": {},
     "output_type": "execute_result"
    }
   ],
   "source": [
    "random_number = random.randint(-90,90) + random.random()\n",
    "random_number"
   ]
  },
  {
   "cell_type": "code",
   "execution_count": 5,
   "id": "52e2c282-b9e3-4bd9-8283-02ce1bd66911",
   "metadata": {},
   "outputs": [
    {
     "data": {
      "text/plain": [
       "[-33.08736858576944,\n",
       " -19.60088199246164,\n",
       " -50.77969780193805,\n",
       " -54.70620977287339,\n",
       " 58.83516186103011,\n",
       " -56.285094256771785,\n",
       " -57.16991527369465,\n",
       " 74.06296452512574,\n",
       " 34.713715944714856,\n",
       " 77.63046279359081]"
      ]
     },
     "execution_count": 5,
     "metadata": {},
     "output_type": "execute_result"
    }
   ],
   "source": [
    "x = 1\n",
    "latitudes = []\n",
    "while x < 11:\n",
    "    random_lat = random.randint(-90, 89) + random.random()\n",
    "    latitudes.append(random_lat)\n",
    "    x += 1\n",
    "latitudes"
   ]
  },
  {
   "cell_type": "code",
   "execution_count": 6,
   "id": "3bfeb927-8232-4d95-a451-026253aa538f",
   "metadata": {},
   "outputs": [
    {
     "data": {
      "text/plain": [
       "-29"
      ]
     },
     "execution_count": 6,
     "metadata": {},
     "output_type": "execute_result"
    }
   ],
   "source": [
    "random.randrange(-90, 90, step=1)"
   ]
  },
  {
   "cell_type": "code",
   "execution_count": 7,
   "id": "d06f06d9-4078-43b4-9998-99f84e667591",
   "metadata": {},
   "outputs": [
    {
     "data": {
      "text/plain": [
       "-81"
      ]
     },
     "execution_count": 7,
     "metadata": {},
     "output_type": "execute_result"
    }
   ],
   "source": [
    "random.randrange(-90, 90, step=3)"
   ]
  },
  {
   "cell_type": "code",
   "execution_count": 8,
   "id": "c8dae561-3bed-4541-826b-5f5222b3520c",
   "metadata": {},
   "outputs": [
    {
     "data": {
      "text/plain": [
       "51.85822206453952"
      ]
     },
     "execution_count": 8,
     "metadata": {},
     "output_type": "execute_result"
    }
   ],
   "source": [
    "random.uniform(-90, 90)"
   ]
  },
  {
   "cell_type": "code",
   "execution_count": 9,
   "id": "0fdf4253-77b7-4ef3-a0bb-a4907252e415",
   "metadata": {},
   "outputs": [],
   "source": [
    "# Import the NumPy module.\n",
    "import numpy as np"
   ]
  },
  {
   "cell_type": "code",
   "execution_count": 10,
   "id": "7d8f453b-54fd-41a8-bf0d-fdca186fc9b5",
   "metadata": {},
   "outputs": [
    {
     "data": {
      "text/plain": [
       "80.37880764710513"
      ]
     },
     "execution_count": 10,
     "metadata": {},
     "output_type": "execute_result"
    }
   ],
   "source": [
    "np.random.uniform(-90.000, 90.000)"
   ]
  },
  {
   "cell_type": "code",
   "execution_count": 11,
   "id": "9ecc4777-de2f-456e-9143-add3fc0290d2",
   "metadata": {},
   "outputs": [
    {
     "data": {
      "text/plain": [
       "array([-52.55329509, -32.54044264, -33.81425265,  11.3153117 ,\n",
       "       -82.18550954, -28.66780293,  68.00971449, -71.49764522,\n",
       "        20.65334427,  76.81227069, -60.64897678,  31.73949815,\n",
       "       -15.30151016, -74.92879868,   9.48173976, -66.71207399,\n",
       "       -67.47673498,  84.33272868,  61.02261808,  64.72334113,\n",
       "       -17.72445903,   7.73651779, -32.56646077,  59.47955656,\n",
       "       -10.85728696, -24.69348727, -12.01750578, -51.15039537,\n",
       "        15.45647672,  51.22644393, -52.09206522,  52.65088274,\n",
       "       -44.97951489,  62.85294645,  40.31509207,  -0.33389019,\n",
       "       -74.06189229, -86.30685613,  71.95063843, -73.62110494,\n",
       "       -56.90239257,  76.21270546,   7.69124402,  -8.16814721,\n",
       "        87.394416  , -16.07953894, -45.40174094,  -7.47968863,\n",
       "        -0.66399447,  65.91914767])"
      ]
     },
     "execution_count": 11,
     "metadata": {},
     "output_type": "execute_result"
    }
   ],
   "source": [
    "np.random.uniform(-90.000, 90.000, size=50)"
   ]
  },
  {
   "cell_type": "code",
   "execution_count": 12,
   "id": "de44fa7b-318a-49a9-8ca2-20abe8200492",
   "metadata": {},
   "outputs": [],
   "source": [
    "# Import timeit.\n",
    "import timeit"
   ]
  },
  {
   "cell_type": "code",
   "execution_count": 13,
   "id": "4a395628-f114-4531-94f3-53c3ca7c73ed",
   "metadata": {},
   "outputs": [
    {
     "name": "stdout",
     "output_type": "stream",
     "text": [
      "19.5 µs ± 1.02 µs per loop (mean ± std. dev. of 7 runs, 10000 loops each)\n"
     ]
    }
   ],
   "source": [
    "%timeit np.random.uniform(-90.000, 90.000, size=1500)"
   ]
  },
  {
   "cell_type": "code",
   "execution_count": 17,
   "id": "d3804ded-af6a-495a-866b-a5e9426ecc3c",
   "metadata": {},
   "outputs": [
    {
     "name": "stdout",
     "output_type": "stream",
     "text": [
      "2.61 ms ± 97.2 µs per loop (mean ± std. dev. of 7 runs, 100 loops each)\n"
     ]
    }
   ],
   "source": [
    "def latitudes(size):\n",
    "    latitudes = []\n",
    "    x = 0\n",
    "    while x < (size):\n",
    "        random_lat = random.randint(-90, 90) + random.random()\n",
    "        latitudes.append(random_lat)\n",
    "        x += 1\n",
    "    return latitudes\n",
    "# Call the function with 1500.\n",
    "%timeit latitudes(1500)"
   ]
  },
  {
   "cell_type": "code",
   "execution_count": null,
   "id": "535d2d89-6b0f-496e-8c59-f76cab16bd13",
   "metadata": {},
   "outputs": [],
   "source": []
  }
 ],
 "metadata": {
  "kernelspec": {
   "display_name": "PythonData",
   "language": "python",
   "name": "pythondata"
  },
  "language_info": {
   "codemirror_mode": {
    "name": "ipython",
    "version": 3
   },
   "file_extension": ".py",
   "mimetype": "text/x-python",
   "name": "python",
   "nbconvert_exporter": "python",
   "pygments_lexer": "ipython3",
   "version": "3.7.10"
  }
 },
 "nbformat": 4,
 "nbformat_minor": 5
}
