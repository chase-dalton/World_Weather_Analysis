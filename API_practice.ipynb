{
 "cells": [
  {
   "cell_type": "code",
   "execution_count": 1,
   "id": "b338245d-97eb-4f25-a60b-9140e491a349",
   "metadata": {},
   "outputs": [],
   "source": [
    "# Create a practice set of random latitude and longitude combinations.\n",
    "x = [25.12903645, 25.92017388, 26.62509167, -59.98969384, 37.30571269]\n",
    "y = [-67.59741259, 11.09532135, 74.84233102, -76.89176677, -61.13376282]\n",
    "coordinates = zip(x, y)"
   ]
  },
  {
   "cell_type": "code",
   "execution_count": 2,
   "id": "904281a0-250f-4e38-bbb9-c31ae9e29445",
   "metadata": {},
   "outputs": [
    {
     "name": "stdout",
     "output_type": "stream",
     "text": [
      "25.12903645 -67.59741259\n",
      "25.92017388 11.09532135\n",
      "26.62509167 74.84233102\n",
      "-59.98969384 -76.89176677\n",
      "37.30571269 -61.13376282\n"
     ]
    }
   ],
   "source": [
    "# Use the tuple() function to display the latitude and longitude combinations.\n",
    "for coordinate in coordinates:\n",
    "    print(coordinate[0], coordinate[1])"
   ]
  },
  {
   "cell_type": "code",
   "execution_count": 3,
   "id": "fc7b4587-0298-42f9-88d0-905a62ffb218",
   "metadata": {},
   "outputs": [],
   "source": [
    "# Use the citipy module to determine city based on latitude and longitude.\n",
    "from citipy import citipy"
   ]
  },
  {
   "cell_type": "code",
   "execution_count": 4,
   "id": "adf1d6ad-1f89-4fc2-94f9-65002cad7ee4",
   "metadata": {},
   "outputs": [],
   "source": [
    "# Use the tuple() function to display the latitude and longitude combinations.\n",
    "for coordinate in coordinates:\n",
    "    print(citipy.nearest_city(coordinate[0], coordinate[1]).city_name,\n",
    "          citipy.nearest_city(coordinate[0], coordinate[1]).country_code)"
   ]
  },
  {
   "cell_type": "code",
   "execution_count": 5,
   "id": "56b723a9-3122-42f9-a8eb-c8d6abe023d8",
   "metadata": {},
   "outputs": [
    {
     "data": {
      "text/plain": [
       "0"
      ]
     },
     "execution_count": 5,
     "metadata": {},
     "output_type": "execute_result"
    }
   ],
   "source": [
    "# Create a list for holding the cities.\n",
    "cities = []\n",
    "# Identify the nearest city for each latitude and longitude combination.\n",
    "for coordinate in coordinates:\n",
    "    city = citipy.nearest_city(coordinate[0], coordinate[1]).city_name\n",
    "\n",
    "    # If the city is unique, then we will add it to the cities list.\n",
    "    if city not in cities:\n",
    "        cities.append(city)\n",
    "# Print the city count to confirm sufficient count.\n",
    "len(cities)"
   ]
  },
  {
   "cell_type": "code",
   "execution_count": 6,
   "id": "0dc6c5fc-550f-4d36-9599-6fe7dd876e7d",
   "metadata": {},
   "outputs": [],
   "source": [
    "# Import the requests library.\n",
    "import requests\n",
    "\n",
    "# Import the API key.\n",
    "from config import weather_api_key"
   ]
  },
  {
   "cell_type": "code",
   "execution_count": 7,
   "id": "3d346c4f-ac28-43ef-8f8c-8fa4ce7514b0",
   "metadata": {},
   "outputs": [],
   "source": [
    "# Starting URL for Weather Map API Call.\n",
    "url = \"http://api.openweathermap.org/data/2.5/weather?units=Imperial&APPID=\" + weather_api_key\n",
    "#print(url)"
   ]
  },
  {
   "cell_type": "code",
   "execution_count": 8,
   "id": "7b378e44-9f2a-4c4d-b554-178fae79f6cd",
   "metadata": {},
   "outputs": [],
   "source": [
    "# Create an endpoint URL for a city.\n",
    "city_url = url + \"&q=\" + \"Boston\"\n",
    "#print(city_url)"
   ]
  },
  {
   "cell_type": "code",
   "execution_count": 9,
   "id": "fd08dafb-0324-4b76-af71-0ea9fb00e58c",
   "metadata": {},
   "outputs": [
    {
     "data": {
      "text/plain": [
       "dict_keys(['coord', 'weather', 'base', 'main', 'visibility', 'wind', 'clouds', 'dt', 'sys', 'timezone', 'id', 'name', 'cod'])"
      ]
     },
     "execution_count": 9,
     "metadata": {},
     "output_type": "execute_result"
    }
   ],
   "source": [
    "weather_response = requests.get(city_url)\n",
    "weather_json = weather_response.json()\n",
    "\n",
    "weather_json.keys()"
   ]
  },
  {
   "cell_type": "code",
   "execution_count": 10,
   "id": "0d3315a2-a0d3-4b00-99ee-64860e60cb94",
   "metadata": {},
   "outputs": [
    {
     "data": {
      "text/plain": [
       "{'temp': 76.8,\n",
       " 'feels_like': 77.61,\n",
       " 'temp_min': 70.18,\n",
       " 'temp_max': 84.49,\n",
       " 'pressure': 1019,\n",
       " 'humidity': 73}"
      ]
     },
     "execution_count": 10,
     "metadata": {},
     "output_type": "execute_result"
    }
   ],
   "source": [
    "weather_json.get(\"main\")"
   ]
  },
  {
   "cell_type": "code",
   "execution_count": 11,
   "id": "c3d17899-42c9-4eb2-9129-5fae1278892d",
   "metadata": {},
   "outputs": [
    {
     "data": {
      "text/plain": [
       "200"
      ]
     },
     "execution_count": 11,
     "metadata": {},
     "output_type": "execute_result"
    }
   ],
   "source": [
    "# Make a 'Get' request for the city weather.\n",
    "city_weather = requests.get(city_url)\n",
    "city_weather.status_code"
   ]
  },
  {
   "cell_type": "code",
   "execution_count": 12,
   "id": "14083156-f020-4508-acc5-d626977989bc",
   "metadata": {},
   "outputs": [
    {
     "data": {
      "text/plain": [
       "<Response [404]>"
      ]
     },
     "execution_count": 12,
     "metadata": {},
     "output_type": "execute_result"
    }
   ],
   "source": [
    "city_url = url + \"&q=\" + \"Bston\"\n",
    "city_weather = requests.get(city_url)\n",
    "city_weather"
   ]
  },
  {
   "cell_type": "code",
   "execution_count": 13,
   "id": "0970feca-01b2-42dd-abc3-4f2813a3ed59",
   "metadata": {},
   "outputs": [
    {
     "data": {
      "text/plain": [
       "<Response [200]>"
      ]
     },
     "execution_count": 13,
     "metadata": {},
     "output_type": "execute_result"
    }
   ],
   "source": [
    "# Create an endpoint URL for a city.\n",
    "city_url = url + \"&q=\" + \"Boston\"\n",
    "city_weather = requests.get(city_url)\n",
    "city_weather"
   ]
  },
  {
   "cell_type": "code",
   "execution_count": 14,
   "id": "b8812390-c9f0-43bc-a4ef-2b2ca537a6e6",
   "metadata": {},
   "outputs": [
    {
     "data": {
      "text/plain": [
       "'{\"coord\":{\"lon\":-71.0598,\"lat\":42.3584},\"weather\":[{\"id\":803,\"main\":\"Clouds\",\"description\":\"broken clouds\",\"icon\":\"04d\"}],\"base\":\"stations\",\"main\":{\"temp\":76.8,\"feels_like\":77.61,\"temp_min\":70.18,\"temp_max\":84.49,\"pressure\":1019,\"humidity\":73},\"visibility\":10000,\"wind\":{\"speed\":8.01,\"deg\":0,\"gust\":11.01},\"clouds\":{\"all\":75},\"dt\":1626536137,\"sys\":{\"type\":2,\"id\":2013408,\"country\":\"US\",\"sunrise\":1626513751,\"sunset\":1626567474},\"timezone\":-14400,\"id\":4930956,\"name\":\"Boston\",\"cod\":200}'"
      ]
     },
     "execution_count": 14,
     "metadata": {},
     "output_type": "execute_result"
    }
   ],
   "source": [
    "city_weather.text"
   ]
  },
  {
   "cell_type": "code",
   "execution_count": 15,
   "id": "cf7c5c1f-00f6-4b98-9421-f9fbe431421b",
   "metadata": {},
   "outputs": [
    {
     "data": {
      "text/plain": [
       "{'coord': {'lon': -71.0598, 'lat': 42.3584},\n",
       " 'weather': [{'id': 803,\n",
       "   'main': 'Clouds',\n",
       "   'description': 'broken clouds',\n",
       "   'icon': '04d'}],\n",
       " 'base': 'stations',\n",
       " 'main': {'temp': 76.8,\n",
       "  'feels_like': 77.61,\n",
       "  'temp_min': 70.18,\n",
       "  'temp_max': 84.49,\n",
       "  'pressure': 1019,\n",
       "  'humidity': 73},\n",
       " 'visibility': 10000,\n",
       " 'wind': {'speed': 8.01, 'deg': 0, 'gust': 11.01},\n",
       " 'clouds': {'all': 75},\n",
       " 'dt': 1626536137,\n",
       " 'sys': {'type': 2,\n",
       "  'id': 2013408,\n",
       "  'country': 'US',\n",
       "  'sunrise': 1626513751,\n",
       "  'sunset': 1626567474},\n",
       " 'timezone': -14400,\n",
       " 'id': 4930956,\n",
       " 'name': 'Boston',\n",
       " 'cod': 200}"
      ]
     },
     "execution_count": 15,
     "metadata": {},
     "output_type": "execute_result"
    }
   ],
   "source": [
    "city_weather.json()"
   ]
  },
  {
   "cell_type": "code",
   "execution_count": 16,
   "id": "d40e295b-66eb-450d-b6bb-9833394e3507",
   "metadata": {},
   "outputs": [
    {
     "name": "stdout",
     "output_type": "stream",
     "text": [
      "City Weather found.\n"
     ]
    }
   ],
   "source": [
    "# Create an endpoint URL for a city.\n",
    "city_url = url + \"&q=\" + \"Boston\"\n",
    "city_weather = requests.get(city_url)\n",
    "if city_weather.status_code == 200:\n",
    "    print(f\"City Weather found.\")\n",
    "else:\n",
    "    print(f\"City weather not found.\")"
   ]
  },
  {
   "cell_type": "code",
   "execution_count": 17,
   "id": "f6470c62-8fac-422b-9228-cc8e2e053b56",
   "metadata": {},
   "outputs": [
    {
     "name": "stdout",
     "output_type": "stream",
     "text": [
      "City weather not found.\n"
     ]
    }
   ],
   "source": [
    "# Create an endpoint URL for a city.\n",
    "city_url = url + \"&q=\" + \"Bston\"\n",
    "city_weather = requests.get(city_url)\n",
    "if city_weather.status_code == 200:\n",
    "    print(f\"City Weather found.\")\n",
    "else:\n",
    "    print(f\"City weather not found.\")"
   ]
  },
  {
   "cell_type": "code",
   "execution_count": 24,
   "id": "3607535b-a975-4ba0-b341-b72b0f1edc82",
   "metadata": {},
   "outputs": [],
   "source": [
    "# Create an endpoint URL for a city.\n",
    "city_url = url + \"&q=\" + \"Boston\"\n",
    "city_weather = requests.get(city_url)"
   ]
  },
  {
   "cell_type": "code",
   "execution_count": 25,
   "id": "9241cf74-ceb6-44d3-a4bb-f6bc17055fee",
   "metadata": {},
   "outputs": [
    {
     "data": {
      "text/plain": [
       "{'coord': {'lon': -71.0598, 'lat': 42.3584},\n",
       " 'weather': [{'id': 803,\n",
       "   'main': 'Clouds',\n",
       "   'description': 'broken clouds',\n",
       "   'icon': '04d'}],\n",
       " 'base': 'stations',\n",
       " 'main': {'temp': 77.36,\n",
       "  'feels_like': 78.19,\n",
       "  'temp_min': 70.95,\n",
       "  'temp_max': 84.83,\n",
       "  'pressure': 1019,\n",
       "  'humidity': 72},\n",
       " 'visibility': 10000,\n",
       " 'wind': {'speed': 3, 'deg': 137, 'gust': 8.01},\n",
       " 'clouds': {'all': 75},\n",
       " 'dt': 1626537212,\n",
       " 'sys': {'type': 2,\n",
       "  'id': 2013408,\n",
       "  'country': 'US',\n",
       "  'sunrise': 1626513751,\n",
       "  'sunset': 1626567474},\n",
       " 'timezone': -14400,\n",
       " 'id': 4930956,\n",
       " 'name': 'Boston',\n",
       " 'cod': 200}"
      ]
     },
     "execution_count": 25,
     "metadata": {},
     "output_type": "execute_result"
    }
   ],
   "source": [
    "# Get the JSON data.\n",
    "boston_data = city_weather.json()\n",
    "boston_data"
   ]
  },
  {
   "cell_type": "code",
   "execution_count": 26,
   "id": "0802849a-c4d1-4fa0-9b65-1291a8a588af",
   "metadata": {},
   "outputs": [
    {
     "data": {
      "text/plain": [
       "{'type': 2,\n",
       " 'id': 2013408,\n",
       " 'country': 'US',\n",
       " 'sunrise': 1626513751,\n",
       " 'sunset': 1626567474}"
      ]
     },
     "execution_count": 26,
     "metadata": {},
     "output_type": "execute_result"
    }
   ],
   "source": [
    "boston_data[\"sys\"]"
   ]
  },
  {
   "cell_type": "code",
   "execution_count": 27,
   "id": "81f1dd4c-f174-46cb-8b79-fba2a54b933e",
   "metadata": {},
   "outputs": [
    {
     "data": {
      "text/plain": [
       "'US'"
      ]
     },
     "execution_count": 27,
     "metadata": {},
     "output_type": "execute_result"
    }
   ],
   "source": [
    "boston_data[\"sys\"][\"country\"]"
   ]
  },
  {
   "cell_type": "code",
   "execution_count": 28,
   "id": "ea309d88-abd0-422b-820a-3bb3ea206160",
   "metadata": {},
   "outputs": [
    {
     "data": {
      "text/plain": [
       "1626537212"
      ]
     },
     "execution_count": 28,
     "metadata": {},
     "output_type": "execute_result"
    }
   ],
   "source": [
    "boston_data[\"dt\"]"
   ]
  },
  {
   "cell_type": "code",
   "execution_count": 30,
   "id": "ce9a4d05-730f-42ea-9384-d6333afd1983",
   "metadata": {},
   "outputs": [
    {
     "data": {
      "text/plain": [
       "42.3584"
      ]
     },
     "execution_count": 30,
     "metadata": {},
     "output_type": "execute_result"
    }
   ],
   "source": [
    "boston_data[\"coord\"][\"lat\"]"
   ]
  },
  {
   "cell_type": "code",
   "execution_count": 33,
   "id": "6d5349ad-b631-494a-bc05-2fefbb1704e5",
   "metadata": {},
   "outputs": [
    {
     "data": {
      "text/plain": [
       "84.83"
      ]
     },
     "execution_count": 33,
     "metadata": {},
     "output_type": "execute_result"
    }
   ],
   "source": [
    "boston_data[\"main\"][\"temp_max\"]"
   ]
  },
  {
   "cell_type": "code",
   "execution_count": 34,
   "id": "cd780ab2-f0e9-4da8-9376-6c3db9303169",
   "metadata": {},
   "outputs": [
    {
     "name": "stdout",
     "output_type": "stream",
     "text": [
      "42.3584 -71.0598 84.83 72 75 3\n"
     ]
    }
   ],
   "source": [
    "lat = boston_data[\"coord\"][\"lat\"]\n",
    "lng = boston_data[\"coord\"][\"lon\"]\n",
    "max_temp = boston_data[\"main\"][\"temp_max\"]\n",
    "humidity = boston_data[\"main\"][\"humidity\"]\n",
    "clouds = boston_data[\"clouds\"][\"all\"]\n",
    "wind = boston_data[\"wind\"][\"speed\"]\n",
    "print(lat, lng, max_temp, humidity, clouds, wind)"
   ]
  },
  {
   "cell_type": "code",
   "execution_count": 38,
   "id": "680ad3bb-4380-4d54-86d5-80951bfb079f",
   "metadata": {},
   "outputs": [
    {
     "data": {
      "text/plain": [
       "'2021-07-17 15:53:32'"
      ]
     },
     "execution_count": 38,
     "metadata": {},
     "output_type": "execute_result"
    }
   ],
   "source": [
    "# Import the datetime module from the datetime library.\n",
    "from datetime import datetime\n",
    "# Get the date from the JSON file.\n",
    "date = boston_data[\"dt\"]\n",
    "# Convert the UTC date to a date format with year, month, day, hours, minutes, and seconds.\n",
    "datetime.utcfromtimestamp(date).strftime('%Y-%m-%d %H:%M:%S')"
   ]
  },
  {
   "cell_type": "code",
   "execution_count": 39,
   "id": "b5a5dbb1-e706-48ba-ad4f-7f93b8fd0806",
   "metadata": {},
   "outputs": [
    {
     "name": "stdout",
     "output_type": "stream",
     "text": [
      "test\n"
     ]
    }
   ],
   "source": [
    "print(\"test\")"
   ]
  },
  {
   "cell_type": "code",
   "execution_count": null,
   "id": "cefde592-0c3a-42e8-aa7f-b819e5a098ca",
   "metadata": {},
   "outputs": [],
   "source": []
  }
 ],
 "metadata": {
  "kernelspec": {
   "display_name": "PythonData",
   "language": "python",
   "name": "pythondata"
  },
  "language_info": {
   "codemirror_mode": {
    "name": "ipython",
    "version": 3
   },
   "file_extension": ".py",
   "mimetype": "text/x-python",
   "name": "python",
   "nbconvert_exporter": "python",
   "pygments_lexer": "ipython3",
   "version": "3.7.10"
  }
 },
 "nbformat": 4,
 "nbformat_minor": 5
}
