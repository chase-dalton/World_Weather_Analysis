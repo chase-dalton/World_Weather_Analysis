{
 "metadata": {
  "language_info": {
   "codemirror_mode": {
    "name": "ipython",
    "version": 3
   },
   "file_extension": ".py",
   "mimetype": "text/x-python",
   "name": "python",
   "nbconvert_exporter": "python",
   "pygments_lexer": "ipython3",
   "version": "3.7.10"
  },
  "orig_nbformat": 4,
  "kernelspec": {
   "name": "python3",
   "display_name": "Python 3.7.10 64-bit ('PythonData': conda)"
  },
  "interpreter": {
   "hash": "d0fff2687c4e68ab587881e0523f44847b391c31e5d0fff9a0782ad754a9f49e"
  }
 },
 "nbformat": 4,
 "nbformat_minor": 2,
 "cells": [
  {
   "cell_type": "code",
   "execution_count": 1,
   "metadata": {},
   "outputs": [],
   "source": [
    "# Import the dependencies.\n",
    "import pandas as pd\n",
    "import gmaps\n",
    "import requests\n",
    "# Import the API key.\n",
    "from config import g_key"
   ]
  },
  {
   "cell_type": "code",
   "execution_count": 2,
   "metadata": {},
   "outputs": [
    {
     "output_type": "execute_result",
     "data": {
      "text/plain": [
       "   City_ID         City Country                 Date      Lat       Lng  \\\n",
       "0        0      Kahului      US  2021-07-17 18:54:44  20.8947 -156.4700   \n",
       "1        1         Lata      PT  2021-07-17 18:59:27  40.1629   -8.3327   \n",
       "2        2       Albany      US  2021-07-17 18:59:27  42.6001  -73.9662   \n",
       "3        3  Provideniya      RU  2021-07-17 18:59:27  64.3833 -173.3000   \n",
       "4        4        Airai      TL  2021-07-17 18:59:28  -8.9266  125.4092   \n",
       "\n",
       "   Max Temp  Humidity  Cloudiness  Wind Speed  \n",
       "0     80.83        78         100       15.99  \n",
       "1     74.35        49           0        6.53  \n",
       "2     85.15        97         100        4.12  \n",
       "3     45.86        97         100        6.40  \n",
       "4     56.62        64          99        2.13  "
      ],
      "text/html": "<div>\n<style scoped>\n    .dataframe tbody tr th:only-of-type {\n        vertical-align: middle;\n    }\n\n    .dataframe tbody tr th {\n        vertical-align: top;\n    }\n\n    .dataframe thead th {\n        text-align: right;\n    }\n</style>\n<table border=\"1\" class=\"dataframe\">\n  <thead>\n    <tr style=\"text-align: right;\">\n      <th></th>\n      <th>City_ID</th>\n      <th>City</th>\n      <th>Country</th>\n      <th>Date</th>\n      <th>Lat</th>\n      <th>Lng</th>\n      <th>Max Temp</th>\n      <th>Humidity</th>\n      <th>Cloudiness</th>\n      <th>Wind Speed</th>\n    </tr>\n  </thead>\n  <tbody>\n    <tr>\n      <th>0</th>\n      <td>0</td>\n      <td>Kahului</td>\n      <td>US</td>\n      <td>2021-07-17 18:54:44</td>\n      <td>20.8947</td>\n      <td>-156.4700</td>\n      <td>80.83</td>\n      <td>78</td>\n      <td>100</td>\n      <td>15.99</td>\n    </tr>\n    <tr>\n      <th>1</th>\n      <td>1</td>\n      <td>Lata</td>\n      <td>PT</td>\n      <td>2021-07-17 18:59:27</td>\n      <td>40.1629</td>\n      <td>-8.3327</td>\n      <td>74.35</td>\n      <td>49</td>\n      <td>0</td>\n      <td>6.53</td>\n    </tr>\n    <tr>\n      <th>2</th>\n      <td>2</td>\n      <td>Albany</td>\n      <td>US</td>\n      <td>2021-07-17 18:59:27</td>\n      <td>42.6001</td>\n      <td>-73.9662</td>\n      <td>85.15</td>\n      <td>97</td>\n      <td>100</td>\n      <td>4.12</td>\n    </tr>\n    <tr>\n      <th>3</th>\n      <td>3</td>\n      <td>Provideniya</td>\n      <td>RU</td>\n      <td>2021-07-17 18:59:27</td>\n      <td>64.3833</td>\n      <td>-173.3000</td>\n      <td>45.86</td>\n      <td>97</td>\n      <td>100</td>\n      <td>6.40</td>\n    </tr>\n    <tr>\n      <th>4</th>\n      <td>4</td>\n      <td>Airai</td>\n      <td>TL</td>\n      <td>2021-07-17 18:59:28</td>\n      <td>-8.9266</td>\n      <td>125.4092</td>\n      <td>56.62</td>\n      <td>64</td>\n      <td>99</td>\n      <td>2.13</td>\n    </tr>\n  </tbody>\n</table>\n</div>"
     },
     "metadata": {},
     "execution_count": 2
    }
   ],
   "source": [
    "# Store the CSV you saved created in part one into a DataFrame.\n",
    "city_data_df = pd.read_csv(\"weather_data/cities.csv\")\n",
    "city_data_df.head()"
   ]
  },
  {
   "cell_type": "code",
   "execution_count": 3,
   "metadata": {},
   "outputs": [
    {
     "output_type": "execute_result",
     "data": {
      "text/plain": [
       "City_ID         int64\n",
       "City           object\n",
       "Country        object\n",
       "Date           object\n",
       "Lat           float64\n",
       "Lng           float64\n",
       "Max Temp      float64\n",
       "Humidity        int64\n",
       "Cloudiness      int64\n",
       "Wind Speed    float64\n",
       "dtype: object"
      ]
     },
     "metadata": {},
     "execution_count": 3
    }
   ],
   "source": [
    "city_data_df.dtypes"
   ]
  },
  {
   "cell_type": "code",
   "execution_count": 4,
   "metadata": {},
   "outputs": [],
   "source": [
    "# Configure gmaps to use your Google API key.\n",
    "gmaps.configure(api_key=g_key)"
   ]
  },
  {
   "cell_type": "code",
   "execution_count": 5,
   "metadata": {},
   "outputs": [
    {
     "output_type": "display_data",
     "data": {
      "text/plain": "Figure(layout=FigureLayout(height='420px'))",
      "application/vnd.jupyter.widget-view+json": {
       "version_major": 2,
       "version_minor": 0,
       "model_id": "1f7d6891edb248cf91074980c2d06191"
      }
     },
     "metadata": {}
    }
   ],
   "source": [
    "# Heatmap of temperature\n",
    "# Get the latitude and longitude.\n",
    "locations = city_data_df[[\"Lat\", \"Lng\"]]\n",
    "# Get the maximum temperature.\n",
    "max_temp = city_data_df[\"Max Temp\"]\n",
    "# Assign the figure variable.\n",
    "fig = gmaps.figure(center=(30.0, 31.0), zoom_level=1.5)\n",
    "# Assign the heatmap variable.\n",
    "heat_layer = gmaps.heatmap_layer(locations, weights=[max(temp, 0) for temp in max_temp], dissipating= False, point_radius=4)\n",
    "# Add the heatmap layer.\n",
    "fig.add_layer(heat_layer)\n",
    "# Call the figure to plot the data.\n",
    "fig"
   ]
  },
  {
   "cell_type": "code",
   "execution_count": 6,
   "metadata": {},
   "outputs": [
    {
     "output_type": "display_data",
     "data": {
      "text/plain": "Figure(layout=FigureLayout(height='420px'))",
      "application/vnd.jupyter.widget-view+json": {
       "version_major": 2,
       "version_minor": 0,
       "model_id": "f150e3d0cf9a4116880d9ddfa325ae65"
      }
     },
     "metadata": {}
    }
   ],
   "source": [
    "# Heatmap of percent humidity\n",
    "locations = city_data_df[[\"Lat\", \"Lng\"]]\n",
    "humidity = city_data_df[\"Humidity\"]\n",
    "fig = gmaps.figure(center=(30.0, 31.0), zoom_level=1.5)\n",
    "heat_layer = gmaps.heatmap_layer(locations, weights=humidity, dissipating=False, max_intensity=300, point_radius=4)\n",
    "\n",
    "fig.add_layer(heat_layer)\n",
    "# Call the figure to plot the data.\n",
    "fig"
   ]
  },
  {
   "cell_type": "code",
   "execution_count": 7,
   "metadata": {},
   "outputs": [
    {
     "output_type": "display_data",
     "data": {
      "text/plain": "Figure(layout=FigureLayout(height='420px'))",
      "application/vnd.jupyter.widget-view+json": {
       "version_major": 2,
       "version_minor": 0,
       "model_id": "7733696308b04d18a28ccf1672e0c4b7"
      }
     },
     "metadata": {}
    }
   ],
   "source": [
    "# Heatmap of percent cloudiness\n",
    "locations = city_data_df[[\"Lat\", \"Lng\"]]\n",
    "clouds = city_data_df[\"Cloudiness\"]\n",
    "fig = gmaps.figure(center=(30.0, 31.0), zoom_level=1.5)\n",
    "heat_layer = gmaps.heatmap_layer(locations, weights=clouds, dissipating=False, max_intensity=300, point_radius=4)\n",
    "\n",
    "fig.add_layer(heat_layer)\n",
    "# Call the figure to plot the data.\n",
    "fig"
   ]
  },
  {
   "cell_type": "code",
   "execution_count": 8,
   "metadata": {},
   "outputs": [
    {
     "output_type": "display_data",
     "data": {
      "text/plain": "Figure(layout=FigureLayout(height='420px'))",
      "application/vnd.jupyter.widget-view+json": {
       "version_major": 2,
       "version_minor": 0,
       "model_id": "de8c8f6097464a0687d05d17dad23e20"
      }
     },
     "metadata": {}
    }
   ],
   "source": [
    "# Heatmap of wind speed \n",
    "locations = city_data_df[[\"Lat\", \"Lng\"]]\n",
    "wind = city_data_df[\"Wind Speed\"]\n",
    "fig = gmaps.figure(center=(30.0, 31.0), zoom_level=1.5)\n",
    "heat_layer = gmaps.heatmap_layer(locations, weights=wind, dissipating=False, max_intensity=300, point_radius=4)\n",
    "\n",
    "fig.add_layer(heat_layer)\n",
    "# Call the figure to plot the data.\n",
    "fig"
   ]
  },
  {
   "cell_type": "code",
   "execution_count": 9,
   "metadata": {},
   "outputs": [],
   "source": [
    "# Ask the customer to add a minimum and maximum temperature value.\n",
    "min_temp = float(input(\"What is the minimum temperature you would like for your trip? \"))\n",
    "max_temp = float(input(\"What is the maximum temperature you would like for your trip? \"))"
   ]
  },
  {
   "cell_type": "code",
   "execution_count": 10,
   "metadata": {},
   "outputs": [
    {
     "output_type": "execute_result",
     "data": {
      "text/plain": [
       "    City_ID         City Country                 Date      Lat       Lng  \\\n",
       "0         0      Kahului      US  2021-07-17 18:54:44  20.8947 -156.4700   \n",
       "2         2       Albany      US  2021-07-17 18:59:27  42.6001  -73.9662   \n",
       "13       13         Asau      RO  2021-07-17 18:59:31  46.4333   26.4000   \n",
       "15       15     Havelock      US  2021-07-17 18:59:31  34.8791  -76.9013   \n",
       "17       17    Nantucket      US  2021-07-17 18:59:32  41.2835  -70.0995   \n",
       "20       20  Salinopolis      BR  2021-07-17 18:59:33  -0.6136  -47.3561   \n",
       "22       22       Lingao      CN  2021-07-17 18:59:33  19.9103  109.6859   \n",
       "23       23        Daura      NG  2021-07-17 18:59:34  11.5538   11.4085   \n",
       "25       25       Atuona      PF  2021-07-17 18:59:34  -9.8000 -139.0333   \n",
       "29       29       Jasper      US  2021-07-17 18:59:35  37.2001  -94.3502   \n",
       "\n",
       "    Max Temp  Humidity  Cloudiness  Wind Speed  \n",
       "0      80.83        78         100       15.99  \n",
       "2      85.15        97         100        4.12  \n",
       "13     75.40        73           0        3.87  \n",
       "15     89.02        79          40        7.00  \n",
       "17     88.14        88          90       12.66  \n",
       "20     82.99        73          99       11.48  \n",
       "22     80.56        82         100        6.53  \n",
       "23     81.36        63         100        8.70  \n",
       "25     78.06        77          23       26.64  \n",
       "29     86.27        77          84        3.00  "
      ],
      "text/html": "<div>\n<style scoped>\n    .dataframe tbody tr th:only-of-type {\n        vertical-align: middle;\n    }\n\n    .dataframe tbody tr th {\n        vertical-align: top;\n    }\n\n    .dataframe thead th {\n        text-align: right;\n    }\n</style>\n<table border=\"1\" class=\"dataframe\">\n  <thead>\n    <tr style=\"text-align: right;\">\n      <th></th>\n      <th>City_ID</th>\n      <th>City</th>\n      <th>Country</th>\n      <th>Date</th>\n      <th>Lat</th>\n      <th>Lng</th>\n      <th>Max Temp</th>\n      <th>Humidity</th>\n      <th>Cloudiness</th>\n      <th>Wind Speed</th>\n    </tr>\n  </thead>\n  <tbody>\n    <tr>\n      <th>0</th>\n      <td>0</td>\n      <td>Kahului</td>\n      <td>US</td>\n      <td>2021-07-17 18:54:44</td>\n      <td>20.8947</td>\n      <td>-156.4700</td>\n      <td>80.83</td>\n      <td>78</td>\n      <td>100</td>\n      <td>15.99</td>\n    </tr>\n    <tr>\n      <th>2</th>\n      <td>2</td>\n      <td>Albany</td>\n      <td>US</td>\n      <td>2021-07-17 18:59:27</td>\n      <td>42.6001</td>\n      <td>-73.9662</td>\n      <td>85.15</td>\n      <td>97</td>\n      <td>100</td>\n      <td>4.12</td>\n    </tr>\n    <tr>\n      <th>13</th>\n      <td>13</td>\n      <td>Asau</td>\n      <td>RO</td>\n      <td>2021-07-17 18:59:31</td>\n      <td>46.4333</td>\n      <td>26.4000</td>\n      <td>75.40</td>\n      <td>73</td>\n      <td>0</td>\n      <td>3.87</td>\n    </tr>\n    <tr>\n      <th>15</th>\n      <td>15</td>\n      <td>Havelock</td>\n      <td>US</td>\n      <td>2021-07-17 18:59:31</td>\n      <td>34.8791</td>\n      <td>-76.9013</td>\n      <td>89.02</td>\n      <td>79</td>\n      <td>40</td>\n      <td>7.00</td>\n    </tr>\n    <tr>\n      <th>17</th>\n      <td>17</td>\n      <td>Nantucket</td>\n      <td>US</td>\n      <td>2021-07-17 18:59:32</td>\n      <td>41.2835</td>\n      <td>-70.0995</td>\n      <td>88.14</td>\n      <td>88</td>\n      <td>90</td>\n      <td>12.66</td>\n    </tr>\n    <tr>\n      <th>20</th>\n      <td>20</td>\n      <td>Salinopolis</td>\n      <td>BR</td>\n      <td>2021-07-17 18:59:33</td>\n      <td>-0.6136</td>\n      <td>-47.3561</td>\n      <td>82.99</td>\n      <td>73</td>\n      <td>99</td>\n      <td>11.48</td>\n    </tr>\n    <tr>\n      <th>22</th>\n      <td>22</td>\n      <td>Lingao</td>\n      <td>CN</td>\n      <td>2021-07-17 18:59:33</td>\n      <td>19.9103</td>\n      <td>109.6859</td>\n      <td>80.56</td>\n      <td>82</td>\n      <td>100</td>\n      <td>6.53</td>\n    </tr>\n    <tr>\n      <th>23</th>\n      <td>23</td>\n      <td>Daura</td>\n      <td>NG</td>\n      <td>2021-07-17 18:59:34</td>\n      <td>11.5538</td>\n      <td>11.4085</td>\n      <td>81.36</td>\n      <td>63</td>\n      <td>100</td>\n      <td>8.70</td>\n    </tr>\n    <tr>\n      <th>25</th>\n      <td>25</td>\n      <td>Atuona</td>\n      <td>PF</td>\n      <td>2021-07-17 18:59:34</td>\n      <td>-9.8000</td>\n      <td>-139.0333</td>\n      <td>78.06</td>\n      <td>77</td>\n      <td>23</td>\n      <td>26.64</td>\n    </tr>\n    <tr>\n      <th>29</th>\n      <td>29</td>\n      <td>Jasper</td>\n      <td>US</td>\n      <td>2021-07-17 18:59:35</td>\n      <td>37.2001</td>\n      <td>-94.3502</td>\n      <td>86.27</td>\n      <td>77</td>\n      <td>84</td>\n      <td>3.00</td>\n    </tr>\n  </tbody>\n</table>\n</div>"
     },
     "metadata": {},
     "execution_count": 10
    }
   ],
   "source": [
    "# Filter the dataset to find the cities that fit the criteria.\n",
    "preferred_cities_df = city_data_df.loc[(city_data_df[\"Max Temp\"] <= max_temp) & \\\n",
    "                                       (city_data_df[\"Max Temp\"] >= min_temp)]\n",
    "preferred_cities_df.head(10)"
   ]
  },
  {
   "cell_type": "code",
   "execution_count": 11,
   "metadata": {},
   "outputs": [
    {
     "output_type": "execute_result",
     "data": {
      "text/plain": [
       "City_ID       204\n",
       "City          204\n",
       "Country       204\n",
       "Date          204\n",
       "Lat           204\n",
       "Lng           204\n",
       "Max Temp      204\n",
       "Humidity      204\n",
       "Cloudiness    204\n",
       "Wind Speed    204\n",
       "dtype: int64"
      ]
     },
     "metadata": {},
     "execution_count": 11
    }
   ],
   "source": [
    "preferred_cities_df.count()"
   ]
  },
  {
   "cell_type": "code",
   "execution_count": 12,
   "metadata": {},
   "outputs": [
    {
     "output_type": "execute_result",
     "data": {
      "text/plain": [
       "           City Country  Max Temp      Lat       Lng Hotel Name\n",
       "0       Kahului      US     80.83  20.8947 -156.4700           \n",
       "2        Albany      US     85.15  42.6001  -73.9662           \n",
       "13         Asau      RO     75.40  46.4333   26.4000           \n",
       "15     Havelock      US     89.02  34.8791  -76.9013           \n",
       "17    Nantucket      US     88.14  41.2835  -70.0995           \n",
       "20  Salinopolis      BR     82.99  -0.6136  -47.3561           \n",
       "22       Lingao      CN     80.56  19.9103  109.6859           \n",
       "23        Daura      NG     81.36  11.5538   11.4085           \n",
       "25       Atuona      PF     78.06  -9.8000 -139.0333           \n",
       "29       Jasper      US     86.27  37.2001  -94.3502           "
      ],
      "text/html": "<div>\n<style scoped>\n    .dataframe tbody tr th:only-of-type {\n        vertical-align: middle;\n    }\n\n    .dataframe tbody tr th {\n        vertical-align: top;\n    }\n\n    .dataframe thead th {\n        text-align: right;\n    }\n</style>\n<table border=\"1\" class=\"dataframe\">\n  <thead>\n    <tr style=\"text-align: right;\">\n      <th></th>\n      <th>City</th>\n      <th>Country</th>\n      <th>Max Temp</th>\n      <th>Lat</th>\n      <th>Lng</th>\n      <th>Hotel Name</th>\n    </tr>\n  </thead>\n  <tbody>\n    <tr>\n      <th>0</th>\n      <td>Kahului</td>\n      <td>US</td>\n      <td>80.83</td>\n      <td>20.8947</td>\n      <td>-156.4700</td>\n      <td></td>\n    </tr>\n    <tr>\n      <th>2</th>\n      <td>Albany</td>\n      <td>US</td>\n      <td>85.15</td>\n      <td>42.6001</td>\n      <td>-73.9662</td>\n      <td></td>\n    </tr>\n    <tr>\n      <th>13</th>\n      <td>Asau</td>\n      <td>RO</td>\n      <td>75.40</td>\n      <td>46.4333</td>\n      <td>26.4000</td>\n      <td></td>\n    </tr>\n    <tr>\n      <th>15</th>\n      <td>Havelock</td>\n      <td>US</td>\n      <td>89.02</td>\n      <td>34.8791</td>\n      <td>-76.9013</td>\n      <td></td>\n    </tr>\n    <tr>\n      <th>17</th>\n      <td>Nantucket</td>\n      <td>US</td>\n      <td>88.14</td>\n      <td>41.2835</td>\n      <td>-70.0995</td>\n      <td></td>\n    </tr>\n    <tr>\n      <th>20</th>\n      <td>Salinopolis</td>\n      <td>BR</td>\n      <td>82.99</td>\n      <td>-0.6136</td>\n      <td>-47.3561</td>\n      <td></td>\n    </tr>\n    <tr>\n      <th>22</th>\n      <td>Lingao</td>\n      <td>CN</td>\n      <td>80.56</td>\n      <td>19.9103</td>\n      <td>109.6859</td>\n      <td></td>\n    </tr>\n    <tr>\n      <th>23</th>\n      <td>Daura</td>\n      <td>NG</td>\n      <td>81.36</td>\n      <td>11.5538</td>\n      <td>11.4085</td>\n      <td></td>\n    </tr>\n    <tr>\n      <th>25</th>\n      <td>Atuona</td>\n      <td>PF</td>\n      <td>78.06</td>\n      <td>-9.8000</td>\n      <td>-139.0333</td>\n      <td></td>\n    </tr>\n    <tr>\n      <th>29</th>\n      <td>Jasper</td>\n      <td>US</td>\n      <td>86.27</td>\n      <td>37.2001</td>\n      <td>-94.3502</td>\n      <td></td>\n    </tr>\n  </tbody>\n</table>\n</div>"
     },
     "metadata": {},
     "execution_count": 12
    }
   ],
   "source": [
    "# Create DataFrame called hotel_df to store hotel names along with city, country, max temp, and coordinates.\n",
    "hotel_df = preferred_cities_df[[\"City\", \"Country\", \"Max Temp\", \"Lat\", \"Lng\"]].copy()\n",
    "hotel_df[\"Hotel Name\"] = \"\"\n",
    "hotel_df.head(10)"
   ]
  },
  {
   "cell_type": "code",
   "execution_count": 13,
   "metadata": {},
   "outputs": [],
   "source": [
    "# Set parameters to search for a hotel.\n",
    "params = {\n",
    "    \"radius\": 5000,\n",
    "    \"type\": \"lodging\",\n",
    "    \"key\": g_key\n",
    "}"
   ]
  },
  {
   "cell_type": "code",
   "execution_count": 17,
   "metadata": {},
   "outputs": [
    {
     "output_type": "stream",
     "name": "stdout",
     "text": [
      "Hotel not found... skipping.\n",
      "Hotel not found... skipping.\n",
      "Hotel not found... skipping.\n",
      "Hotel not found... skipping.\n",
      "Hotel not found... skipping.\n",
      "Hotel not found... skipping.\n",
      "Hotel not found... skipping.\n",
      "Hotel not found... skipping.\n",
      "Hotel not found... skipping.\n",
      "Hotel not found... skipping.\n",
      "Hotel not found... skipping.\n"
     ]
    }
   ],
   "source": [
    "# Iterate through the DataFrame.\n",
    "for index, row in hotel_df.iterrows():\n",
    "    # Get the latitude and longitude.\n",
    "    lat = row[\"Lat\"]\n",
    "    lng = row[\"Lng\"]\n",
    "\n",
    "    # Add the latitude and longitude to location key for the params dictionary.\n",
    "    params[\"location\"] = f\"{lat},{lng}\"\n",
    "\n",
    "    # Use the search term: \"lodging\" and our latitude and longitude.\n",
    "    base_url = \"https://maps.googleapis.com/maps/api/place/nearbysearch/json\"\n",
    "    # Make request and get the JSON data from the search.\n",
    "    hotels = requests.get(base_url, params=params).json()\n",
    "    # Grab the first hotel from the results and store the name.\n",
    "    # Grab the first hotel from the results and store the name.\n",
    "    try:\n",
    "        hotel_df.loc[index, \"Hotel Name\"] = hotels[\"results\"][0][\"name\"]\n",
    "    except (IndexError):\n",
    "        print(\"Hotel not found... skipping.\")"
   ]
  },
  {
   "cell_type": "code",
   "execution_count": 26,
   "metadata": {},
   "outputs": [],
   "source": [
    "info_box_template = \"\"\"\n",
    "<dl>\n",
    "<dt>Hotel Name</dt><dd>{Hotel Name}</dd>\n",
    "<dt>City</dt><dd>{City}</dd>\n",
    "<dt>Country</dt><dd>{Country}</dd>\n",
    "<dt>Max Temp</dt><dd>{Max Temp} °F</dd>\n",
    "</dl>\n",
    "\"\"\"\n",
    "# Store the DataFrame Row.\n",
    "hotel_info = [info_box_template.format(**row) for index, row in hotel_df.iterrows()]\n"
   ]
  },
  {
   "cell_type": "code",
   "execution_count": 23,
   "metadata": {},
   "outputs": [
    {
     "output_type": "display_data",
     "data": {
      "text/plain": "Figure(layout=FigureLayout(height='420px'))",
      "application/vnd.jupyter.widget-view+json": {
       "version_major": 2,
       "version_minor": 0,
       "model_id": "0a9da92598ca43c2a36fd4c6bd4f9a8d"
      }
     },
     "metadata": {}
    }
   ],
   "source": [
    "# Add a heatmap of temperature for the vacation spots and a pop-up marker for each city.\n",
    "locations = hotel_df[[\"Lat\", \"Lng\"]]\n",
    "max_temp = hotel_df[\"Max Temp\"]\n",
    "fig = gmaps.figure(center=(30.0, 31.0), zoom_level=1.5)\n",
    "heat_layer = gmaps.heatmap_layer(locations, weights=max_temp,dissipating=False,\n",
    "             max_intensity=300, point_radius=4)\n",
    "marker_layer = gmaps.marker_layer(locations, info_box_content=hotel_info)\n",
    "fig.add_layer(heat_layer)\n",
    "fig.add_layer(marker_layer)\n",
    "\n",
    "# Call the figure to plot the data.\n",
    "fig"
   ]
  },
  {
   "cell_type": "code",
   "execution_count": null,
   "metadata": {},
   "outputs": [],
   "source": []
  }
 ]
}